{
 "cells": [
  {
   "cell_type": "markdown",
   "id": "5f11db3c",
   "metadata": {},
   "source": [
    "# hstack と vstack\n",
    "hstackが列を増やすようにスタック\n",
    "vstackが行を増やすようにスタック"
   ]
  },
  {
   "cell_type": "code",
   "execution_count": 4,
   "id": "e65cbf65",
   "metadata": {},
   "outputs": [
    {
     "data": {
      "text/html": [
       "<div>\n",
       "<style scoped>\n",
       "    .dataframe tbody tr th:only-of-type {\n",
       "        vertical-align: middle;\n",
       "    }\n",
       "\n",
       "    .dataframe tbody tr th {\n",
       "        vertical-align: top;\n",
       "    }\n",
       "\n",
       "    .dataframe thead th {\n",
       "        text-align: right;\n",
       "    }\n",
       "</style>\n",
       "<table border=\"1\" class=\"dataframe\">\n",
       "  <thead>\n",
       "    <tr style=\"text-align: right;\">\n",
       "      <th></th>\n",
       "      <th>rand</th>\n",
       "    </tr>\n",
       "  </thead>\n",
       "  <tbody>\n",
       "    <tr>\n",
       "      <th>2017-12-31</th>\n",
       "      <td>4192</td>\n",
       "    </tr>\n",
       "    <tr>\n",
       "      <th>2018-12-31</th>\n",
       "      <td>1364</td>\n",
       "    </tr>\n",
       "  </tbody>\n",
       "</table>\n",
       "</div>"
      ],
      "text/plain": [
       "            rand\n",
       "2017-12-31  4192\n",
       "2018-12-31  1364"
      ]
     },
     "execution_count": 4,
     "metadata": {},
     "output_type": "execute_result"
    }
   ],
   "source": [
    "import numpy as np \n",
    "import pandas as pd \n",
    "np.random.seed(123) \n",
    "dates = pd.date_range(start=\"2017-04-01\", periods=365) \n",
    "df = pd.DataFrame(np.random.randint(1, 31, 365), index=dates, columns=[\"rand\"]) \n",
    "df_year = pd.DataFrame(df.groupby(pd.Grouper(freq='YE')).sum(), columns=[\"rand\"] )\n",
    "\n",
    "df_year"
   ]
  },
  {
   "cell_type": "code",
   "execution_count": null,
   "id": "0f6e9273",
   "metadata": {},
   "outputs": [],
   "source": [
    "import numpy as np\n",
    "\n",
    "d = np.array([1, 2], dtype=np.int16)\n",
    "# 型を確認する\n",
    "type(d) \n",
    "# データの型を確認する\n",
    "d.dtype"
   ]
  },
  {
   "cell_type": "markdown",
   "id": "f85bf3ad",
   "metadata": {},
   "source": [
    "## 乱数の生成"
   ]
  },
  {
   "cell_type": "code",
   "execution_count": null,
   "id": "63e10f3d",
   "metadata": {},
   "outputs": [],
   "source": [
    "# 乱数を生成するインスタンス\n",
    "rng = np.random.default_rng()\n",
    "# 3行2列の乱数を生成する\n",
    "f = rng.random((3, 2))\n",
    "# 1から10の整数を生成する\n",
    "rng.integers(1, 10)\n",
    "# 1から10の整数を3行3列の配列で生成する\n",
    "rng.integers(1, 10, size=(3, 3))\n",
    "# 0.0から5.0の範囲で2行3列の一様分布を生成する\n",
    "rng.uniform(0.0, 5.0, size=(2, 3))\n",
    "# 0.0から1.0の範囲で4行3列の一様分布を生成する\n",
    "rng.uniform(size=(4, 3))\n",
    "# 標準正規分布の乱数を生成する\n",
    "rng.standard_normal(size=(4, 2))\n",
    "# 平均50、標準偏差10の正規分布の乱数を生成する\n",
    "rng.normal(50, 10, 3)"
   ]
  },
  {
   "cell_type": "markdown",
   "id": "fafa97e2",
   "metadata": {},
   "source": [
    "## 要素内の差分"
   ]
  },
  {
   "cell_type": "code",
   "execution_count": 6,
   "id": "4669f348",
   "metadata": {},
   "outputs": [
    {
     "data": {
      "text/plain": [
       "array([ 0,  4, -5,  2])"
      ]
     },
     "execution_count": 6,
     "metadata": {},
     "output_type": "execute_result"
    }
   ],
   "source": [
    "l1 = np.array([2, 2, 6, 1, 3])\n",
    "np.diff(l1)"
   ]
  },
  {
   "cell_type": "markdown",
   "id": "51ec0ad3",
   "metadata": {},
   "source": [
    "## 連結"
   ]
  },
  {
   "cell_type": "code",
   "execution_count": null,
   "id": "01743efa",
   "metadata": {},
   "outputs": [],
   "source": [
    "a1 = np.array([[1, 2], [3, 4]])\n",
    "a2 = np.array([[5, 6], [7, 8]])\n",
    "# 配列を結合する\n",
    "np.concatenate([a1, a2])\n",
    "# 配列を行結合する\n",
    "np.concatenate([a1, a2], axis=0)\n",
    "np.hstack([a1, a2])\n",
    "# 配列を列結合する\n",
    "np.concatenate([a1, a2], axis=1)\n",
    "np.vstack([a1, a2])"
   ]
  },
  {
   "cell_type": "markdown",
   "id": "bfc8068e",
   "metadata": {},
   "source": [
    "## 分割"
   ]
  },
  {
   "cell_type": "code",
   "execution_count": null,
   "id": "d0588452",
   "metadata": {},
   "outputs": [],
   "source": [
    "a = np.array([[1, 2, 3, 4], [5, 6, 7, 8]])\n",
    "first, second= np.split(a, [1, 3])"
   ]
  }
 ],
 "metadata": {
  "kernelspec": {
   "display_name": "Python 3",
   "language": "python",
   "name": "python3"
  },
  "language_info": {
   "codemirror_mode": {
    "name": "ipython",
    "version": 3
   },
   "file_extension": ".py",
   "mimetype": "text/x-python",
   "name": "python",
   "nbconvert_exporter": "python",
   "pygments_lexer": "ipython3",
   "version": "3.13.0"
  }
 },
 "nbformat": 4,
 "nbformat_minor": 5
}
