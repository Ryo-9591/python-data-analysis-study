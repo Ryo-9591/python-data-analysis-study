{
 "cells": [
  {
   "cell_type": "markdown",
   "id": "5f11db3c",
   "metadata": {},
   "source": [
    "# hstack と vstack\n",
    "hstackが列を増やすようにスタック\n",
    "vstackが行を増やすようにスタック"
   ]
  }
 ],
 "metadata": {
  "kernelspec": {
   "display_name": "Python 3",
   "language": "python",
   "name": "python3"
  },
  "language_info": {
   "name": "python",
   "version": "3.13.0"
  }
 },
 "nbformat": 4,
 "nbformat_minor": 5
}
