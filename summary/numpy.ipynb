{
 "cells": [
  {
   "cell_type": "markdown",
   "id": "5f11db3c",
   "metadata": {},
   "source": [
    "# hstack と vstack\n",
    "hstackが列を増やすようにスタック\n",
    "vstackが行を増やすようにスタック"
   ]
  },
  {
   "cell_type": "code",
   "execution_count": 4,
   "id": "e65cbf65",
   "metadata": {},
   "outputs": [
    {
     "data": {
      "text/html": [
       "<div>\n",
       "<style scoped>\n",
       "    .dataframe tbody tr th:only-of-type {\n",
       "        vertical-align: middle;\n",
       "    }\n",
       "\n",
       "    .dataframe tbody tr th {\n",
       "        vertical-align: top;\n",
       "    }\n",
       "\n",
       "    .dataframe thead th {\n",
       "        text-align: right;\n",
       "    }\n",
       "</style>\n",
       "<table border=\"1\" class=\"dataframe\">\n",
       "  <thead>\n",
       "    <tr style=\"text-align: right;\">\n",
       "      <th></th>\n",
       "      <th>rand</th>\n",
       "    </tr>\n",
       "  </thead>\n",
       "  <tbody>\n",
       "    <tr>\n",
       "      <th>2017-12-31</th>\n",
       "      <td>4192</td>\n",
       "    </tr>\n",
       "    <tr>\n",
       "      <th>2018-12-31</th>\n",
       "      <td>1364</td>\n",
       "    </tr>\n",
       "  </tbody>\n",
       "</table>\n",
       "</div>"
      ],
      "text/plain": [
       "            rand\n",
       "2017-12-31  4192\n",
       "2018-12-31  1364"
      ]
     },
     "execution_count": 4,
     "metadata": {},
     "output_type": "execute_result"
    }
   ],
   "source": [
    "import numpy as np \n",
    "import pandas as pd \n",
    "np.random.seed(123) \n",
    "dates = pd.date_range(start=\"2017-04-01\", periods=365) \n",
    "df = pd.DataFrame(np.random.randint(1, 31, 365), index=dates, columns=[\"rand\"]) \n",
    "df_year = pd.DataFrame(df.groupby(pd.Grouper(freq='YE')).sum(), columns=[\"rand\"] )\n",
    "\n",
    "df_year"
   ]
  }
 ],
 "metadata": {
  "kernelspec": {
   "display_name": "Python 3",
   "language": "python",
   "name": "python3"
  },
  "language_info": {
   "codemirror_mode": {
    "name": "ipython",
    "version": 3
   },
   "file_extension": ".py",
   "mimetype": "text/x-python",
   "name": "python",
   "nbconvert_exporter": "python",
   "pygments_lexer": "ipython3",
   "version": "3.13.0"
  }
 },
 "nbformat": 4,
 "nbformat_minor": 5
}
