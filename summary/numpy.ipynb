{
 "cells": [
  {
   "cell_type": "markdown",
   "id": "e9524c38",
   "metadata": {},
   "source": [
    "## データ型の確認"
   ]
  },
  {
   "cell_type": "code",
   "execution_count": null,
   "id": "0f6e9273",
   "metadata": {},
   "outputs": [],
   "source": [
    "import numpy as np\n",
    "\n",
    "d = np.array([1, 2], dtype=np.int16)\n",
    "# 型を確認する\n",
    "type(d) \n",
    "# データの型を確認する\n",
    "d.dtype"
   ]
  },
  {
   "cell_type": "markdown",
   "id": "f85bf3ad",
   "metadata": {},
   "source": [
    "## 乱数の生成"
   ]
  },
  {
   "cell_type": "code",
   "execution_count": null,
   "id": "63e10f3d",
   "metadata": {},
   "outputs": [],
   "source": [
    "# 乱数を生成するインスタンス\n",
    "rng = np.random.default_rng()\n",
    "# 3行2列の乱数を生成する\n",
    "f = rng.random((3, 2))\n",
    "# 1から10の整数を生成する\n",
    "rng.integers(1, 10)\n",
    "# 1から10の整数を3行3列の配列で生成する\n",
    "rng.integers(1, 10, size=(3, 3))\n",
    "# 0.0から5.0の範囲で2行3列の一様分布を生成する\n",
    "rng.uniform(0.0, 5.0, size=(2, 3))\n",
    "# 0.0から1.0の範囲で4行3列の一様分布を生成する\n",
    "rng.uniform(size=(4, 3))\n",
    "# 標準正規分布の乱数を生成する\n",
    "rng.standard_normal(size=(4, 2))\n",
    "# 平均50、標準偏差10の正規分布の乱数を生成する\n",
    "rng.normal(50, 10, 3)"
   ]
  },
  {
   "cell_type": "markdown",
   "id": "fafa97e2",
   "metadata": {},
   "source": [
    "## 要素内の差分"
   ]
  },
  {
   "cell_type": "code",
   "execution_count": 6,
   "id": "4669f348",
   "metadata": {},
   "outputs": [
    {
     "data": {
      "text/plain": [
       "array([ 0,  4, -5,  2])"
      ]
     },
     "execution_count": 6,
     "metadata": {},
     "output_type": "execute_result"
    }
   ],
   "source": [
    "l1 = np.array([2, 2, 6, 1, 3])\n",
    "np.diff(l1)"
   ]
  },
  {
   "cell_type": "markdown",
   "id": "51ec0ad3",
   "metadata": {},
   "source": [
    "## 連結"
   ]
  },
  {
   "cell_type": "code",
   "execution_count": null,
   "id": "01743efa",
   "metadata": {},
   "outputs": [],
   "source": [
    "a1 = np.array([[1, 2], [3, 4]])\n",
    "a2 = np.array([[5, 6], [7, 8]])\n",
    "# 配列を結合する\n",
    "np.concatenate([a1, a2])\n",
    "# 配列を行結合する\n",
    "np.concatenate([a1, a2], axis=0)\n",
    "np.hstack([a1, a2])\n",
    "# 配列を列結合する\n",
    "np.concatenate([a1, a2], axis=1)\n",
    "np.vstack([a1, a2])"
   ]
  },
  {
   "cell_type": "markdown",
   "id": "bfc8068e",
   "metadata": {},
   "source": [
    "## 分割"
   ]
  },
  {
   "cell_type": "code",
   "execution_count": 21,
   "id": "d0588452",
   "metadata": {},
   "outputs": [
    {
     "data": {
      "text/plain": [
       "array([[1, 2],\n",
       "       [5, 6]])"
      ]
     },
     "execution_count": 21,
     "metadata": {},
     "output_type": "execute_result"
    }
   ],
   "source": [
    "a = np.array([[1, 2, 3, 4], [5, 6, 7, 8]])\n",
    "first, second = np.split(a, [2], axis=1)\n",
    "first"
   ]
  },
  {
   "cell_type": "code",
   "execution_count": 22,
   "id": "d2e86f18",
   "metadata": {},
   "outputs": [
    {
     "data": {
      "text/plain": [
       "array([[3, 4],\n",
       "       [7, 8]])"
      ]
     },
     "execution_count": 22,
     "metadata": {},
     "output_type": "execute_result"
    }
   ],
   "source": [
    "second"
   ]
  },
  {
   "cell_type": "markdown",
   "id": "a9b425ad",
   "metadata": {},
   "source": [
    "## 次元追加\n",
    "\n"
   ]
  },
  {
   "cell_type": "code",
   "execution_count": null,
   "id": "6b1ee862",
   "metadata": {},
   "outputs": [
    {
     "data": {
      "text/plain": [
       "array([[1],\n",
       "       [2],\n",
       "       [3],\n",
       "       [4]])"
      ]
     },
     "execution_count": 23,
     "metadata": {},
     "output_type": "execute_result"
    }
   ],
   "source": [
    "a = np.array([1, 2, 3, 4])\n",
    "# 配列を1列にする\n",
    "a[:, np.newaxis]\n",
    "# 配列を1行にする\n",
    "a[np.newaxis, :]"
   ]
  },
  {
   "cell_type": "markdown",
   "id": "9ca0a088",
   "metadata": {},
   "source": [
    "## グリッドデータの生成"
   ]
  },
  {
   "cell_type": "code",
   "execution_count": 29,
   "id": "490cefa1",
   "metadata": {},
   "outputs": [
    {
     "data": {
      "text/plain": [
       "array([[0, 1, 2, 3],\n",
       "       [0, 1, 2, 3],\n",
       "       [0, 1, 2, 3],\n",
       "       [0, 1, 2, 3]])"
      ]
     },
     "execution_count": 29,
     "metadata": {},
     "output_type": "execute_result"
    }
   ],
   "source": [
    "# 0から3の配列を生成する\n",
    "m = np.arange(0, 4)\n",
    "# 4から7の配列を生成する\n",
    "n = np.arange(4, 8)\n",
    "# 2次元配列を生成する\n",
    "xx, yy = np.meshgrid(m, n)\n",
    "# 行方向の配列を表示する\n",
    "xx"
   ]
  },
  {
   "cell_type": "code",
   "execution_count": null,
   "id": "b707dc08",
   "metadata": {},
   "outputs": [
    {
     "data": {
      "text/plain": [
       "array([[4, 4, 4, 4],\n",
       "       [5, 5, 5, 5],\n",
       "       [6, 6, 6, 6],\n",
       "       [7, 7, 7, 7]])"
      ]
     },
     "execution_count": 31,
     "metadata": {},
     "output_type": "execute_result"
    }
   ],
   "source": [
    "# 列方向の配列を表示する\n",
    "yy"
   ]
  },
  {
   "cell_type": "markdown",
   "id": "c2dd21d0",
   "metadata": {},
   "source": [
    "## ユニバーサル関数"
   ]
  },
  {
   "cell_type": "code",
   "execution_count": null,
   "id": "435b87b7",
   "metadata": {},
   "outputs": [
    {
     "data": {
      "text/plain": [
       "array([[3, 2, 1],\n",
       "       [0, 1, 2]])"
      ]
     },
     "execution_count": 34,
     "metadata": {},
     "output_type": "execute_result"
    }
   ],
   "source": [
    "b = np.arange(-3, 3).reshape((2, 3))\n",
    "# 絶対値を計算する\n",
    "np.abs(b)"
   ]
  }
 ],
 "metadata": {
  "kernelspec": {
   "display_name": "Python 3",
   "language": "python",
   "name": "python3"
  },
  "language_info": {
   "codemirror_mode": {
    "name": "ipython",
    "version": 3
   },
   "file_extension": ".py",
   "mimetype": "text/x-python",
   "name": "python",
   "nbconvert_exporter": "python",
   "pygments_lexer": "ipython3",
   "version": "3.13.0"
  }
 },
 "nbformat": 4,
 "nbformat_minor": 5
}
