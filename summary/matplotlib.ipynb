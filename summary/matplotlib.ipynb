{
 "cells": [
  {
   "cell_type": "code",
   "execution_count": null,
   "id": "a0e2dadf",
   "metadata": {},
   "outputs": [],
   "source": [
    "import matplotlib\n",
    "import matplotlib.pyplot as plt\n",
    "\n",
    "matplotlib.style.use(\"ggplot\")  # スタイルを指定\n",
    "\n",
    "fig, ax = plt.subplots()\n",
    "\n",
    "ax.set_title(\"日本語のタイトルを設定\")\n",
    "ax.text(2, 6, \"文字列を描画\", size=20)\n",
    "\n",
    "x = [1, 2, 3]\n",
    "y = [10, 2, 3]\n",
    "labels = [\"スパム\", \"ハム\", \"玉子\"] \n",
    "ax.bar(x, y, tick_label=labels, label=\"食べ物\")\n",
    "ax.legend()\n",
    "\n",
    "plt.show()"
   ]
  }
 ],
 "metadata": {
  "language_info": {
   "name": "python"
  }
 },
 "nbformat": 4,
 "nbformat_minor": 5
}
