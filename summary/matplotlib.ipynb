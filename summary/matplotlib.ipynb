{
 "cells": [
  {
   "cell_type": "code",
   "execution_count": null,
   "id": "a0e2dadf",
   "metadata": {},
   "outputs": [],
   "source": [
    "import matplotlib\n",
    "import matplotlib.style\n",
    "import matplotlib.pyplot as plt\n",
    "\n",
    "matplotlib.style.use(\"ggplot\")  # スタイルを指定\n",
    "\n",
    "\n",
    "fig, ax = plt.subplots()\n",
    "\n",
    "# 線の色を名前で指定\n",
    "ax.plot([1, 3], [3, 1], label=\"aqua\", color=\"aqua\")\n",
    "# 16進数のRGBで指定\n",
    "ax.plot([1, 3], [1, 3], label=\"#0000FF\", color=\"#0000FF\")\n",
    "# RGBAをfloatで指定\n",
    "ax.plot([1, 3], [2, 2], label=\"(0.1, 0.2, 0.5, 0.3)\",\n",
    "        color=(0.1, 0.2, 0.5, 0.3))\n",
    "ax.legend()  # 凡例を表示\n",
    "\n",
    "plt.show()\n"
   ]
  }
 ],
 "metadata": {
  "kernelspec": {
   "display_name": "Python 3",
   "language": "python",
   "name": "python3"
  },
  "language_info": {
   "codemirror_mode": {
    "name": "ipython",
    "version": 3
   },
   "file_extension": ".py",
   "mimetype": "text/x-python",
   "name": "python",
   "nbconvert_exporter": "python",
   "pygments_lexer": "ipython3",
   "version": "3.13.0"
  }
 },
 "nbformat": 4,
 "nbformat_minor": 5
}
