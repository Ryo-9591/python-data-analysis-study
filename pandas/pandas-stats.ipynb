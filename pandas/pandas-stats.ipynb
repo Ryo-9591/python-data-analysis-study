{
 "cells": [
  {
   "cell_type": "markdown",
   "id": "d773d8f0",
   "metadata": {},
   "source": [
    "# 統計データの扱い"
   ]
  },
  {
   "cell_type": "code",
   "execution_count": null,
   "id": "0497d8b1",
   "metadata": {},
   "outputs": [],
   "source": [
    "import pandas as pd\n",
    "df = pd.read_pickle(\"data/df_202411health.pickle\")\n",
    "df.head()"
   ]
  }
 ],
 "metadata": {
  "kernelspec": {
   "display_name": "Python 3",
   "language": "python",
   "name": "python3"
  },
  "language_info": {
   "name": "python",
   "version": "3.13.0"
  }
 },
 "nbformat": 4,
 "nbformat_minor": 5
}
