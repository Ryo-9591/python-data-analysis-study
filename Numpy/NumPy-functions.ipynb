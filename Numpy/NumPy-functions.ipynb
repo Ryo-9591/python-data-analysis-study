{
 "cells": [
  {
   "cell_type": "markdown",
   "id": "055ce1a9",
   "metadata": {},
   "source": [
    "# NumPyの各機能"
   ]
  },
  {
   "cell_type": "code",
   "execution_count": null,
   "id": "0d74ba96",
   "metadata": {},
   "outputs": [
    {
     "name": "stdout",
     "output_type": "stream",
     "text": [
      "a: [0 1 2]\n",
      "b: [[-3 -2 -1]\n",
      " [ 0  1  2]]\n",
      "c: [[1 2 3]\n",
      " [4 5 6]]\n",
      "d: [[0 1]\n",
      " [2 3]\n",
      " [4 5]]\n",
      "e: [-1.         -0.77777778 -0.55555556 -0.33333333 -0.11111111  0.11111111\n",
      "  0.33333333  0.55555556  0.77777778  1.        ]\n"
     ]
    }
   ],
   "source": [
    "import numpy as np\n",
    "\n",
    "a = np.arange(3)\n",
    "b = np.arange(-3, 3).reshape((2, 3))\n",
    "c = np.arange(1, 7).reshape((2, 3))\n",
    "d = np.arange(6).reshape((3, 2))\n",
    "e = np.linspace(-1, 1, 10)\n",
    "print(\"a:\", a)\n",
    "print(\"b:\", b)\n",
    "print(\"c:\", c)\n",
    "print(\"d:\", d)\n",
    "print(\"e:\", e)"
   ]
  },
  {
   "cell_type": "code",
   "execution_count": 2,
   "id": "1aa8364d",
   "metadata": {},
   "outputs": [
    {
     "data": {
      "text/plain": [
       "[[3, 2, 1], [0, 1, 2]]"
      ]
     },
     "execution_count": 2,
     "metadata": {},
     "output_type": "execute_result"
    }
   ],
   "source": [
    "li = [[-3, -2, -1],\n",
    "      [0, 1, 2]]\n",
    "new = []\n",
    "for i, j in enumerate(li):\n",
    "    # 新しいリストを作成する\n",
    "    new.append([])\n",
    "    for k in j:\n",
    "        # 絶対値を計算する\n",
    "        new[i].append(abs(k))\n",
    "new"
   ]
  },
  {
   "cell_type": "code",
   "execution_count": null,
   "id": "946cb5ae",
   "metadata": {},
   "outputs": [],
   "source": [
    "# 絶対値を計算する\n",
    "np.abs(b)"
   ]
  },
  {
   "cell_type": "code",
   "execution_count": null,
   "id": "e84fe99d",
   "metadata": {},
   "outputs": [
    {
     "data": {
      "text/plain": [
       "array([-0.84147098, -0.70169788, -0.52741539, -0.3271947 , -0.11088263,\n",
       "        0.11088263,  0.3271947 ,  0.52741539,  0.70169788,  0.84147098])"
      ]
     },
     "execution_count": 3,
     "metadata": {},
     "output_type": "execute_result"
    }
   ],
   "source": [
    "# 三角関数を計算する\n",
    "np.sin(e)"
   ]
  }
 ],
 "metadata": {
  "kernelspec": {
   "display_name": "Python 3",
   "language": "python",
   "name": "python3"
  },
  "language_info": {
   "codemirror_mode": {
    "name": "ipython",
    "version": 3
   },
   "file_extension": ".py",
   "mimetype": "text/x-python",
   "name": "python",
   "nbconvert_exporter": "python",
   "pygments_lexer": "ipython3",
   "version": "3.13.0"
  }
 },
 "nbformat": 4,
 "nbformat_minor": 5
}
