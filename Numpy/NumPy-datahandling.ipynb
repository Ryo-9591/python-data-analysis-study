{
 "cells": [
  {
   "cell_type": "markdown",
   "id": "f315546b",
   "metadata": {},
   "source": [
    "# NumPyでデータを扱う"
   ]
  }
 ],
 "metadata": {
  "language_info": {
   "name": "python"
  }
 },
 "nbformat": 4,
 "nbformat_minor": 5
}
