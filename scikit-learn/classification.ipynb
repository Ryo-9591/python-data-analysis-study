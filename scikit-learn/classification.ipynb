{
 "cells": [
  {
   "cell_type": "markdown",
   "id": "2818d206",
   "metadata": {},
   "source": [
    "# 分類"
   ]
  },
  {
   "cell_type": "markdown",
   "id": "4299ef42",
   "metadata": {},
   "source": [
    "## 分類モデル構築の流れ"
   ]
  },
  {
   "cell_type": "code",
   "execution_count": null,
   "id": "a2832c66",
   "metadata": {},
   "outputs": [],
   "source": [
    "from sklearn.datasets import load_iris\n",
    "# Irisデータセットを読み込む\n",
    "iris = load_iris()\n",
    "X, y = iris.data, iris.target\n",
    "# 先頭５行を表示\n",
    "print(\"X:\")\n",
    "print(X[:5, :])\n",
    "print(\"y:\")\n",
    "print(y[:5])"
   ]
  }
 ],
 "metadata": {
  "kernelspec": {
   "display_name": "Python 3",
   "language": "python",
   "name": "python3"
  },
  "language_info": {
   "name": "python",
   "version": "3.13.0"
  }
 },
 "nbformat": 4,
 "nbformat_minor": 5
}
