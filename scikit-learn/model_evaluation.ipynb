{
 "cells": [
  {
   "cell_type": "markdown",
   "id": "d4ad963c",
   "metadata": {},
   "source": [
    "# モデルの評価"
   ]
  },
  {
   "cell_type": "markdown",
   "id": "db7af7c2",
   "metadata": {},
   "source": [
    "## カテゴリの分類精度\n"
   ]
  },
  {
   "cell_type": "code",
   "execution_count": null,
   "id": "cb26b795",
   "metadata": {},
   "outputs": [],
   "source": [
    "from sklearn.datasets import load_iris\n",
    "from sklearn.svm import SVC\n",
    "from sklearn.model_selection import train_test_split\n",
    "# Irisデータセットを読み込む\n",
    "iris = load_iris()\n",
    "X, y = iris.data[:100, :], iris.target[:100]\n",
    "# 学習データセット、テストデータセットに分割\n",
    "X_train, X_test, y_train, y_test = train_test_split(\n",
    "                    X, y, test_size=0.3, random_state=123)\n",
    "# SVMのインスタンス化\n",
    "svc = SVC()\n",
    "# SVMで学習\n",
    "svc.fit(X_train, y_train)\n",
    "# テストデータセットの予測\n",
    "y_pred = svc.predict(X_test)"
   ]
  }
 ],
 "metadata": {
  "kernelspec": {
   "display_name": "Python 3",
   "language": "python",
   "name": "python3"
  },
  "language_info": {
   "name": "python",
   "version": "3.13.0"
  }
 },
 "nbformat": 4,
 "nbformat_minor": 5
}
