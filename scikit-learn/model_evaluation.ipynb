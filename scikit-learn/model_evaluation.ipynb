{
 "cells": [
  {
   "cell_type": "markdown",
   "id": "d4ad963c",
   "metadata": {},
   "source": [
    "# モデルの評価"
   ]
  },
  {
   "cell_type": "markdown",
   "id": "db7af7c2",
   "metadata": {},
   "source": [
    "## カテゴリの分類精度\n"
   ]
  },
  {
   "cell_type": "code",
   "execution_count": 1,
   "id": "cb26b795",
   "metadata": {},
   "outputs": [],
   "source": [
    "from sklearn.datasets import load_iris\n",
    "from sklearn.svm import SVC\n",
    "from sklearn.model_selection import train_test_split\n",
    "# Irisデータセットを読み込む\n",
    "iris = load_iris()\n",
    "X, y = iris.data[:100, :], iris.target[:100]\n",
    "# 学習データセット、テストデータセットに分割\n",
    "X_train, X_test, y_train, y_test = train_test_split(\n",
    "                    X, y, test_size=0.3, random_state=123)\n",
    "# SVMのインスタンス化\n",
    "svc = SVC()\n",
    "# SVMで学習\n",
    "svc.fit(X_train, y_train)\n",
    "# テストデータセットの予測\n",
    "y_pred = svc.predict(X_test)"
   ]
  },
  {
   "cell_type": "code",
   "execution_count": null,
   "id": "f05ad60c",
   "metadata": {},
   "outputs": [
    {
     "name": "stdout",
     "output_type": "stream",
     "text": [
      "              precision    recall  f1-score   support\n",
      "\n",
      "           0       1.00      1.00      1.00        15\n",
      "           1       1.00      1.00      1.00        15\n",
      "\n",
      "    accuracy                           1.00        30\n",
      "   macro avg       1.00      1.00      1.00        30\n",
      "weighted avg       1.00      1.00      1.00        30\n",
      "\n"
     ]
    }
   ],
   "source": [
    "from sklearn.metrics import classification_report\n",
    "# 適合率、再現率、F値を出力\n",
    "# precision=適合率, recall=再現率, f1-score=F値, support=サポート数\n",
    "print(classification_report(y_test, y_pred))"
   ]
  },
  {
   "cell_type": "markdown",
   "id": "ef77e2e8",
   "metadata": {},
   "source": [
    "## 混合行列"
   ]
  },
  {
   "cell_type": "markdown",
   "id": "fb729c6e",
   "metadata": {},
   "source": [
    "![混合行列](img/image.png)"
   ]
  },
  {
   "cell_type": "markdown",
   "id": "24032be3",
   "metadata": {},
   "source": [
    "### 適合率\n",
    "陽性と予測したうちの実際に陽性だった割合\n",
    "#### 計算式\n",
    "適合率 = TP / (TP + FP)\n",
    "\n",
    "### 再現率\n",
    "実際に陽性だったものを陽性と予測できた割合\n",
    "#### 計算式\n",
    "再現率 = TP / (TP + FN)\n",
    "\n",
    "### F値\n",
    "適合率と再現率の調和平均\n",
    "#### 計算式\n",
    "F値 = 2 * (適合率 * 再現率) / (適合率 + 再現率)"
   ]
  },
  {
   "cell_type": "markdown",
   "id": "f0637ba2",
   "metadata": {},
   "source": [
    "### 交差検証"
   ]
  },
  {
   "cell_type": "code",
   "execution_count": null,
   "id": "7c046b14",
   "metadata": {},
   "outputs": [
    {
     "data": {
      "text/plain": [
       "array([1., 1., 1., 1., 1., 1., 1., 1., 1., 1.])"
      ]
     },
     "execution_count": 4,
     "metadata": {},
     "output_type": "execute_result"
    }
   ],
   "source": [
    "from sklearn.svm import SVC\n",
    "from sklearn.model_selection import cross_val_score\n",
    "# サポートベクタマシンをインスタンス化\n",
    "svc = SVC()\n",
    "# 10分割の交差検証を実行\n",
    "# 適合率を計算\n",
    "cross_val_score(svc, X, y, cv=10, scoring=\"precision\")"
   ]
  }
 ],
 "metadata": {
  "kernelspec": {
   "display_name": "Python 3",
   "language": "python",
   "name": "python3"
  },
  "language_info": {
   "codemirror_mode": {
    "name": "ipython",
    "version": 3
   },
   "file_extension": ".py",
   "mimetype": "text/x-python",
   "name": "python",
   "nbconvert_exporter": "python",
   "pygments_lexer": "ipython3",
   "version": "3.13.0"
  }
 },
 "nbformat": 4,
 "nbformat_minor": 5
}
