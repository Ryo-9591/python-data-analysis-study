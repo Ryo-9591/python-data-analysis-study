{
 "cells": [
  {
   "cell_type": "markdown",
   "id": "e1706d8e",
   "metadata": {},
   "source": [
    "# 回帰\n"
   ]
  },
  {
   "cell_type": "code",
   "execution_count": null,
   "id": "f809562d",
   "metadata": {},
   "outputs": [],
   "source": [
    "from sklearn.linear_model import LinearRegression\n",
    "from sklearn.datasets import fetch_california_housing\n",
    "from sklearn.model_selection import train_test_split\n",
    "\n",
    "# California housingデータセットを読み込む\n",
    "housing = fetch_california_housing()\n",
    "X, y = housing.data, housing.target\n",
    "# 学習データセットとテストデータセットに分割\n",
    "X_train, X_test, y_train, y_test = train_test_split(\n",
    "                    X, y, test_size=0.3, random_state=123)\n",
    "\n",
    "# 線形回帰をインスタンス化\n",
    "lr = LinearRegression()\n",
    "# 学習\n",
    "lr.fit(X_train, y_train)"
   ]
  }
 ],
 "metadata": {
  "kernelspec": {
   "display_name": "Python 3",
   "language": "python",
   "name": "python3"
  },
  "language_info": {
   "name": "python",
   "version": "3.13.0"
  }
 },
 "nbformat": 4,
 "nbformat_minor": 5
}
